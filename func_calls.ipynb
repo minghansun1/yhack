{
 "cells": [
  {
   "cell_type": "code",
   "execution_count": null,
   "metadata": {},
   "outputs": [],
   "source": [
    "# secrets.env should contain OPENAI_API_KEY\n",
    "# !pip install openai python-dotenv"
   ]
  },
  {
   "cell_type": "code",
   "execution_count": 9,
   "metadata": {},
   "outputs": [],
   "source": [
    "import os\n",
    "from openai import OpenAI\n",
    "from dotenv import load_dotenv"
   ]
  },
  {
   "cell_type": "code",
   "execution_count": 12,
   "metadata": {},
   "outputs": [],
   "source": [
    "load_dotenv(dotenv_path='../secrets.env')\n",
    "client = OpenAI(api_key=os.environ[\"OPENAI_API_KEY\"])"
   ]
  },
  {
   "cell_type": "code",
   "execution_count": 22,
   "metadata": {},
   "outputs": [],
   "source": [
    "def get_stargazing_status(lat, long):\n",
    "    return {\n",
    "        \"stargazing\": 8\n",
    "    }\n",
    "\n",
    "functions = [\n",
    "    {\n",
    "        \"name\": \"get_stargazing_status\",\n",
    "        \"description\": \"Get the stargazing quality of a location, given its latitude and longitude.\",\n",
    "        \"parameters\": {\n",
    "            \"type\": \"object\",\n",
    "            \"properties\": {\n",
    "                \"lat\": {\n",
    "                    \"type\": \"number\",\n",
    "                    \"description\": \"The latitude of the location to check.\"\n",
    "                },\n",
    "                \"long\": {\n",
    "                    \"type\": \"number\",\n",
    "                    \"description\": \"The longitude of the location to check.\"\n",
    "                }\n",
    "            },\n",
    "            \"required\": [\"lat\", \"long\"]\n",
    "        }\n",
    "    }\n",
    "]"
   ]
  },
  {
   "cell_type": "code",
   "execution_count": 23,
   "metadata": {},
   "outputs": [
    {
     "name": "stdout",
     "output_type": "stream",
     "text": [
      "The stargazing at latitude 45, longitude 55 is fairly good, ranking at an 8 out of 10. This suggests clear skies with good visibility of stars and other celestial bodies. As always, stargazing conditions can vary due to weather and light pollution.\n"
     ]
    }
   ],
   "source": [
    "response = client.chat.completions.create(\n",
    "    model=\"gpt-4\",  # Changed from \"gpt-4o\" to \"gpt-4\"\n",
    "    messages=[\n",
    "        {\"role\": \"user\", \"content\": \"What's the stargazing like at latitude 45, longitude 55? Use the function call to get the stargazing status from our database.\"}\n",
    "    ],\n",
    "    functions=functions,\n",
    "    function_call=\"auto\"\n",
    ")\n",
    "\n",
    "if response.choices[0].message.function_call:  # Changed from .function_call to .message.function_call\n",
    "    function_call = response.choices[0].message.function_call\n",
    "    function_name = function_call.name\n",
    "    function_args = eval(function_call.arguments)\n",
    "    \n",
    "    # Call the function\n",
    "    function_response = get_stargazing_status(**function_args)  # Changed from get_current_weather to get_status\n",
    "    \n",
    "    # Send the function result back to the model\n",
    "    second_response = client.chat.completions.create(\n",
    "        model=\"gpt-4\",  # Changed from \"gpt-4o\" to \"gpt-4\"\n",
    "        messages=[\n",
    "            {\"role\": \"user\", \"content\": \"What's the stargazing like at latitude 45, longitude 55?\"},\n",
    "            {\"role\": \"function\", \"name\": function_name, \"content\": str(function_response)}\n",
    "        ]\n",
    "    )\n",
    "    \n",
    "    print(second_response.choices[0].message.content)\n",
    "else:\n",
    "    print(response.choices[0].message.content)"
   ]
  },
  {
   "cell_type": "markdown",
   "metadata": {},
   "source": [
    "# Simple OpenAI Function Calling Example\n",
    "\n",
    "def get_current_weather(location, unit=\"celsius\"):\n",
    "    \"\"\"Get the current weather in a given location\"\"\"\n",
    "    # Dummy function to simulate getting weather data\n",
    "    return {\n",
    "        \"location\": location,\n",
    "        \"temperature\": 22,\n",
    "        \"unit\": unit,\n",
    "        \"forecast\": [\"sunny\", \"windy\"]\n",
    "    }\n",
    "\n",
    "# Define the function for the API to use\n",
    "functions = [\n",
    "    {\n",
    "        \"name\": \"get_current_weather\",\n",
    "        \"description\": \"Get the current weather in a location\",\n",
    "        \"parameters\": {\n",
    "            \"type\": \"object\",\n",
    "            \"properties\": {\n",
    "                \"location\": {\n",
    "                    \"type\": \"string\",\n",
    "                    \"description\": \"The city and state, e.g. San Francisco, CA\"\n",
    "                },\n",
    "                \"unit\": {\n",
    "                    \"type\": \"string\",\n",
    "                    \"enum\": [\"celsius\", \"fahrenheit\"]\n",
    "                }\n",
    "            },\n",
    "            \"required\": [\"location\"]\n",
    "        }\n",
    "    }\n",
    "]\n",
    "\n",
    "# Make the API call\n",
    "response = client.chat.completions.create(\n",
    "    model=\"gpt-3.5-turbo-0613\",\n",
    "    messages=[\n",
    "        {\"role\": \"user\", \"content\": \"What's the weather like in Boston?\"}\n",
    "    ],\n",
    "    functions=functions,\n",
    "    function_call=\"auto\"\n",
    ")\n",
    "\n",
    "# Check if the model wants to call a function\n",
    "if response.choices[0].function_call:\n",
    "    function_call = response.choices[0].function_call\n",
    "    function_name = function_call.name\n",
    "    function_args = eval(function_call.arguments)\n",
    "    \n",
    "    # Call the function\n",
    "    function_response = get_current_weather(**function_args)\n",
    "    \n",
    "    # Send the function result back to the model\n",
    "    second_response = client.chat.completions.create(\n",
    "        model=\"gpt-3.5-turbo-0613\",\n",
    "        messages=[\n",
    "            {\"role\": \"user\", \"content\": \"What's the weather like in Boston?\"},\n",
    "            {\"role\": \"function\", \"name\": function_name, \"content\": str(function_response)}\n",
    "        ]\n",
    "    )\n",
    "    \n",
    "    print(second_response.choices[0].message.content)\n",
    "else:\n",
    "    print(response.choices[0].message.content)\n"
   ]
  }
 ],
 "metadata": {
  "kernelspec": {
   "display_name": "Python 3",
   "language": "python",
   "name": "python3"
  },
  "language_info": {
   "codemirror_mode": {
    "name": "ipython",
    "version": 3
   },
   "file_extension": ".py",
   "mimetype": "text/x-python",
   "name": "python",
   "nbconvert_exporter": "python",
   "pygments_lexer": "ipython3",
   "version": "3.11.1"
  }
 },
 "nbformat": 4,
 "nbformat_minor": 2
}
